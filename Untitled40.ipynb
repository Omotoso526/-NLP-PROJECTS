{
  "nbformat": 4,
  "nbformat_minor": 0,
  "metadata": {
    "colab": {
      "provenance": []
    },
    "kernelspec": {
      "name": "python3",
      "display_name": "Python 3"
    },
    "language_info": {
      "name": "python"
    }
  },
  "cells": [
    {
      "cell_type": "code",
      "execution_count": 1,
      "metadata": {
        "colab": {
          "base_uri": "https://localhost:8080/"
        },
        "id": "QbeiUHrT19Wv",
        "outputId": "08db807b-a15b-4a02-a889-e0bfc9aeb965"
      },
      "outputs": [
        {
          "output_type": "stream",
          "name": "stdout",
          "text": [
            "Requirement already satisfied: nltk in /usr/local/lib/python3.10/dist-packages (3.9.1)\n",
            "Requirement already satisfied: click in /usr/local/lib/python3.10/dist-packages (from nltk) (8.1.7)\n",
            "Requirement already satisfied: joblib in /usr/local/lib/python3.10/dist-packages (from nltk) (1.4.2)\n",
            "Requirement already satisfied: regex>=2021.8.3 in /usr/local/lib/python3.10/dist-packages (from nltk) (2024.11.6)\n",
            "Requirement already satisfied: tqdm in /usr/local/lib/python3.10/dist-packages (from nltk) (4.67.1)\n"
          ]
        }
      ],
      "source": [
        "!pip install nltk"
      ]
    },
    {
      "cell_type": "code",
      "source": [
        "paragraph = \"\"\" Admissions Committee,\n",
        "Virginia Tech University,\n",
        "Department of Agricultural and Extension Education,\n",
        "Dear Members of the Admissions Committee,\n",
        "It is with great pleasure that I write this letter to recommend Surajudeen Omotoso for admission into your Master’s program in Agricultural Leadership. I have had the privilege of mentoring Surajudeen during his undergraduate studies at the University of Ibadan, where he graduated with a first-class degree in Agricultural Extension. As their lecturer, I observed his exceptional academic performance, strong leadership skills, and unwavering passion for agriculture and community development.\n",
        "Surajudeen consistently demonstrated a profound understanding of agricultural systems and their socio-economic implications, excelling in courses such as Community Leadership and Social Change, where they critically engaged with topics like community entry strategies, leadership dynamics, and sustainable development. His curiosity and analytical mindset were evident in his ability to draw meaningful connections between theoretical frameworks and real-world challenges, particularly in addressing the unique needs and opportunities within Africa’s agricultural sector..\n",
        "Beyond academics, Surajudeen showcased remarkable leadership and organizational skills. As an assistant farm manager during his  tenure at Federal University Lokoja, he effectively managed diverse tasks, including processing cassava into garri, raising poultry for egg production, and overseeing fish farming operations. His role also involved lecturing university students on entrepreneurship in agriculture, further highlighting his ability to inspire and educate others. This blend of hands-on experience and a commitment to knowledge-sharing reflects his readiness to take on leadership roles in the agricultural domain.\n",
        "Surajudeen’s passion for bridging the gap between agricultural theory and practice extends to his  vision for integrating data analytics and sustainable farming techniques to address pressing challenges in food security and climate resilience. His aspiration to lead innovative research and community-oriented projects makes him an ideal candidate for your program. I am confident that he will thrive in your academically rigorous environment, contributing actively to your mission of fostering future leaders in agriculture.\n",
        "In conclusion, I wholeheartedly recommend Surajudeen for admission into the Master’s program in Agricultural Leadership. I am confident that his academic excellence, practical experience, and passion for agricultural development will make them a valuable asset to your institution. Please do not hesitate to contact me at io.badiru@ui.edu.ng should you require further information.\n",
        "Yours sincerely,\n",
        "Dr Idris Badiru\n",
        "\"\"\""
      ],
      "metadata": {
        "id": "AwCjUPXT2Jx0"
      },
      "execution_count": 2,
      "outputs": []
    },
    {
      "cell_type": "code",
      "source": [
        "paragraph"
      ],
      "metadata": {
        "colab": {
          "base_uri": "https://localhost:8080/",
          "height": 125
        },
        "id": "TIPTcV7b2eja",
        "outputId": "a6836727-f1d6-486d-d3af-34903f997338"
      },
      "execution_count": 3,
      "outputs": [
        {
          "output_type": "execute_result",
          "data": {
            "text/plain": [
              "' Admissions Committee,\\nVirginia Tech University,\\nDepartment of Agricultural and Extension Education,\\nDear Members of the Admissions Committee,\\nIt is with great pleasure that I write this letter to recommend Surajudeen Omotoso for admission into your Master’s program in Agricultural Leadership. I have had the privilege of mentoring Surajudeen during his undergraduate studies at the University of Ibadan, where he graduated with a first-class degree in Agricultural Extension. As their lecturer, I observed his exceptional academic performance, strong leadership skills, and unwavering passion for agriculture and community development.\\nSurajudeen consistently demonstrated a profound understanding of agricultural systems and their socio-economic implications, excelling in courses such as Community Leadership and Social Change, where they critically engaged with topics like community entry strategies, leadership dynamics, and sustainable development. His curiosity and analytical mindset were evident in his ability to draw meaningful connections between theoretical frameworks and real-world challenges, particularly in addressing the unique needs and opportunities within Africa’s agricultural sector..\\nBeyond academics, Surajudeen showcased remarkable leadership and organizational skills. As an assistant farm manager during his  tenure at Federal University Lokoja, he effectively managed diverse tasks, including processing cassava into garri, raising poultry for egg production, and overseeing fish farming operations. His role also involved lecturing university students on entrepreneurship in agriculture, further highlighting his ability to inspire and educate others. This blend of hands-on experience and a commitment to knowledge-sharing reflects his readiness to take on leadership roles in the agricultural domain.\\nSurajudeen’s passion for bridging the gap between agricultural theory and practice extends to his  vision for integrating data analytics and sustainable farming techniques to address pressing challenges in food security and climate resilience. His aspiration to lead innovative research and community-oriented projects makes him an ideal candidate for your program. I am confident that he will thrive in your academically rigorous environment, contributing actively to your mission of fostering future leaders in agriculture.\\nIn conclusion, I wholeheartedly recommend Surajudeen for admission into the Master’s program in Agricultural Leadership. I am confident that his academic excellence, practical experience, and passion for agricultural development will make them a valuable asset to your institution. Please do not hesitate to contact me at io.badiru@ui.edu.ng should you require further information.\\nYours sincerely,\\nDr Idris Badiru\\n'"
            ],
            "application/vnd.google.colaboratory.intrinsic+json": {
              "type": "string"
            }
          },
          "metadata": {},
          "execution_count": 3
        }
      ]
    },
    {
      "cell_type": "code",
      "source": [
        "import nltk\n",
        "from nltk.stem import PorterStemmer\n",
        "from nltk.corpus import stopwords"
      ],
      "metadata": {
        "id": "CvhKGb2q2f7T"
      },
      "execution_count": 4,
      "outputs": []
    },
    {
      "cell_type": "code",
      "source": [
        "## tokenization --- converts paragraphs into words\n",
        "nltk.download('punkt_tab')\n",
        "sentence = nltk.sent_tokenize(paragraph)"
      ],
      "metadata": {
        "colab": {
          "base_uri": "https://localhost:8080/"
        },
        "id": "kDZkj0y23CiR",
        "outputId": "5cfb0447-a2a4-4214-b927-833a608de440"
      },
      "execution_count": 5,
      "outputs": [
        {
          "output_type": "stream",
          "name": "stderr",
          "text": [
            "[nltk_data] Downloading package punkt_tab to /root/nltk_data...\n",
            "[nltk_data]   Unzipping tokenizers/punkt_tab.zip.\n"
          ]
        }
      ]
    },
    {
      "cell_type": "code",
      "source": [
        "sentence"
      ],
      "metadata": {
        "colab": {
          "base_uri": "https://localhost:8080/"
        },
        "id": "Y47Q-Ckf3kJw",
        "outputId": "413c43a5-5389-4c50-978d-e558c431d661"
      },
      "execution_count": 6,
      "outputs": [
        {
          "output_type": "execute_result",
          "data": {
            "text/plain": [
              "[' Admissions Committee,\\nVirginia Tech University,\\nDepartment of Agricultural and Extension Education,\\nDear Members of the Admissions Committee,\\nIt is with great pleasure that I write this letter to recommend Surajudeen Omotoso for admission into your Master’s program in Agricultural Leadership.',\n",
              " 'I have had the privilege of mentoring Surajudeen during his undergraduate studies at the University of Ibadan, where he graduated with a first-class degree in Agricultural Extension.',\n",
              " 'As their lecturer, I observed his exceptional academic performance, strong leadership skills, and unwavering passion for agriculture and community development.',\n",
              " 'Surajudeen consistently demonstrated a profound understanding of agricultural systems and their socio-economic implications, excelling in courses such as Community Leadership and Social Change, where they critically engaged with topics like community entry strategies, leadership dynamics, and sustainable development.',\n",
              " 'His curiosity and analytical mindset were evident in his ability to draw meaningful connections between theoretical frameworks and real-world challenges, particularly in addressing the unique needs and opportunities within Africa’s agricultural sector..',\n",
              " 'Beyond academics, Surajudeen showcased remarkable leadership and organizational skills.',\n",
              " 'As an assistant farm manager during his  tenure at Federal University Lokoja, he effectively managed diverse tasks, including processing cassava into garri, raising poultry for egg production, and overseeing fish farming operations.',\n",
              " 'His role also involved lecturing university students on entrepreneurship in agriculture, further highlighting his ability to inspire and educate others.',\n",
              " 'This blend of hands-on experience and a commitment to knowledge-sharing reflects his readiness to take on leadership roles in the agricultural domain.',\n",
              " 'Surajudeen’s passion for bridging the gap between agricultural theory and practice extends to his  vision for integrating data analytics and sustainable farming techniques to address pressing challenges in food security and climate resilience.',\n",
              " 'His aspiration to lead innovative research and community-oriented projects makes him an ideal candidate for your program.',\n",
              " 'I am confident that he will thrive in your academically rigorous environment, contributing actively to your mission of fostering future leaders in agriculture.',\n",
              " 'In conclusion, I wholeheartedly recommend Surajudeen for admission into the Master’s program in Agricultural Leadership.',\n",
              " 'I am confident that his academic excellence, practical experience, and passion for agricultural development will make them a valuable asset to your institution.',\n",
              " 'Please do not hesitate to contact me at io.badiru@ui.edu.ng should you require further information.',\n",
              " 'Yours sincerely,\\nDr Idris Badiru']"
            ]
          },
          "metadata": {},
          "execution_count": 6
        }
      ]
    },
    {
      "cell_type": "code",
      "source": [
        "## steming\n",
        "stemmer = PorterStemmer()"
      ],
      "metadata": {
        "id": "UnlCasbY4ORQ"
      },
      "execution_count": 7,
      "outputs": []
    },
    {
      "cell_type": "code",
      "source": [
        "stemmer.stem('history')"
      ],
      "metadata": {
        "colab": {
          "base_uri": "https://localhost:8080/",
          "height": 35
        },
        "id": "D_Gjv_bw4pMc",
        "outputId": "7f08893a-bfb4-4172-e919-6679272aab4d"
      },
      "execution_count": 8,
      "outputs": [
        {
          "output_type": "execute_result",
          "data": {
            "text/plain": [
              "'histori'"
            ],
            "application/vnd.google.colaboratory.intrinsic+json": {
              "type": "string"
            }
          },
          "metadata": {},
          "execution_count": 8
        }
      ]
    },
    {
      "cell_type": "code",
      "source": [
        "nltk.download('wordnet')\n",
        "from nltk.stem import WordNetLemmatizer"
      ],
      "metadata": {
        "colab": {
          "base_uri": "https://localhost:8080/"
        },
        "id": "VAcWY8Jn4ul_",
        "outputId": "53c42158-1813-4523-9067-e101dd5b7ac0"
      },
      "execution_count": 9,
      "outputs": [
        {
          "output_type": "stream",
          "name": "stderr",
          "text": [
            "[nltk_data] Downloading package wordnet to /root/nltk_data...\n"
          ]
        }
      ]
    },
    {
      "cell_type": "code",
      "source": [
        "lemmatizer = WordNetLemmatizer()"
      ],
      "metadata": {
        "id": "-Gx2-KTM5ADm"
      },
      "execution_count": 10,
      "outputs": []
    },
    {
      "cell_type": "code",
      "source": [
        "lemmatizer.lemmatize('goes')"
      ],
      "metadata": {
        "colab": {
          "base_uri": "https://localhost:8080/",
          "height": 35
        },
        "id": "dgrStb1K5Ioo",
        "outputId": "67dadc24-11b2-45de-f78b-ced0cdb5a77b"
      },
      "execution_count": 11,
      "outputs": [
        {
          "output_type": "execute_result",
          "data": {
            "text/plain": [
              "'go'"
            ],
            "application/vnd.google.colaboratory.intrinsic+json": {
              "type": "string"
            }
          },
          "metadata": {},
          "execution_count": 11
        }
      ]
    },
    {
      "cell_type": "code",
      "source": [
        "import re\n",
        "corpus = []\n",
        "for i in range (len(sentence)):\n",
        "  review = re.sub('[^a-zA-Z]', \" \", sentence[i])\n",
        "  review = review.lower()\n",
        "  corpus.append(review)"
      ],
      "metadata": {
        "id": "Dp4NzL7N5Ou6"
      },
      "execution_count": 12,
      "outputs": []
    },
    {
      "cell_type": "code",
      "source": [
        "corpus"
      ],
      "metadata": {
        "colab": {
          "base_uri": "https://localhost:8080/"
        },
        "id": "KlOqSyD9617c",
        "outputId": "d1850371-dd0a-49b1-dfe6-5443c9c4dcdb"
      },
      "execution_count": 13,
      "outputs": [
        {
          "output_type": "execute_result",
          "data": {
            "text/plain": [
              "[' admissions committee  virginia tech university  department of agricultural and extension education  dear members of the admissions committee  it is with great pleasure that i write this letter to recommend surajudeen omotoso for admission into your master s program in agricultural leadership ',\n",
              " 'i have had the privilege of mentoring surajudeen during his undergraduate studies at the university of ibadan  where he graduated with a first class degree in agricultural extension ',\n",
              " 'as their lecturer  i observed his exceptional academic performance  strong leadership skills  and unwavering passion for agriculture and community development ',\n",
              " 'surajudeen consistently demonstrated a profound understanding of agricultural systems and their socio economic implications  excelling in courses such as community leadership and social change  where they critically engaged with topics like community entry strategies  leadership dynamics  and sustainable development ',\n",
              " 'his curiosity and analytical mindset were evident in his ability to draw meaningful connections between theoretical frameworks and real world challenges  particularly in addressing the unique needs and opportunities within africa s agricultural sector  ',\n",
              " 'beyond academics  surajudeen showcased remarkable leadership and organizational skills ',\n",
              " 'as an assistant farm manager during his  tenure at federal university lokoja  he effectively managed diverse tasks  including processing cassava into garri  raising poultry for egg production  and overseeing fish farming operations ',\n",
              " 'his role also involved lecturing university students on entrepreneurship in agriculture  further highlighting his ability to inspire and educate others ',\n",
              " 'this blend of hands on experience and a commitment to knowledge sharing reflects his readiness to take on leadership roles in the agricultural domain ',\n",
              " 'surajudeen s passion for bridging the gap between agricultural theory and practice extends to his  vision for integrating data analytics and sustainable farming techniques to address pressing challenges in food security and climate resilience ',\n",
              " 'his aspiration to lead innovative research and community oriented projects makes him an ideal candidate for your program ',\n",
              " 'i am confident that he will thrive in your academically rigorous environment  contributing actively to your mission of fostering future leaders in agriculture ',\n",
              " 'in conclusion  i wholeheartedly recommend surajudeen for admission into the master s program in agricultural leadership ',\n",
              " 'i am confident that his academic excellence  practical experience  and passion for agricultural development will make them a valuable asset to your institution ',\n",
              " 'please do not hesitate to contact me at io badiru ui edu ng should you require further information ',\n",
              " 'yours sincerely  dr idris badiru']"
            ]
          },
          "metadata": {},
          "execution_count": 13
        }
      ]
    },
    {
      "cell_type": "code",
      "source": [
        "nltk.download('stopwords')\n",
        "stopwords.words('english')"
      ],
      "metadata": {
        "colab": {
          "base_uri": "https://localhost:8080/"
        },
        "id": "w_3tgmGb3jUj",
        "outputId": "3671a467-0548-4e93-d671-3bcc4f68ae5a"
      },
      "execution_count": 14,
      "outputs": [
        {
          "output_type": "stream",
          "name": "stderr",
          "text": [
            "[nltk_data] Downloading package stopwords to /root/nltk_data...\n",
            "[nltk_data]   Unzipping corpora/stopwords.zip.\n"
          ]
        },
        {
          "output_type": "execute_result",
          "data": {
            "text/plain": [
              "['i',\n",
              " 'me',\n",
              " 'my',\n",
              " 'myself',\n",
              " 'we',\n",
              " 'our',\n",
              " 'ours',\n",
              " 'ourselves',\n",
              " 'you',\n",
              " \"you're\",\n",
              " \"you've\",\n",
              " \"you'll\",\n",
              " \"you'd\",\n",
              " 'your',\n",
              " 'yours',\n",
              " 'yourself',\n",
              " 'yourselves',\n",
              " 'he',\n",
              " 'him',\n",
              " 'his',\n",
              " 'himself',\n",
              " 'she',\n",
              " \"she's\",\n",
              " 'her',\n",
              " 'hers',\n",
              " 'herself',\n",
              " 'it',\n",
              " \"it's\",\n",
              " 'its',\n",
              " 'itself',\n",
              " 'they',\n",
              " 'them',\n",
              " 'their',\n",
              " 'theirs',\n",
              " 'themselves',\n",
              " 'what',\n",
              " 'which',\n",
              " 'who',\n",
              " 'whom',\n",
              " 'this',\n",
              " 'that',\n",
              " \"that'll\",\n",
              " 'these',\n",
              " 'those',\n",
              " 'am',\n",
              " 'is',\n",
              " 'are',\n",
              " 'was',\n",
              " 'were',\n",
              " 'be',\n",
              " 'been',\n",
              " 'being',\n",
              " 'have',\n",
              " 'has',\n",
              " 'had',\n",
              " 'having',\n",
              " 'do',\n",
              " 'does',\n",
              " 'did',\n",
              " 'doing',\n",
              " 'a',\n",
              " 'an',\n",
              " 'the',\n",
              " 'and',\n",
              " 'but',\n",
              " 'if',\n",
              " 'or',\n",
              " 'because',\n",
              " 'as',\n",
              " 'until',\n",
              " 'while',\n",
              " 'of',\n",
              " 'at',\n",
              " 'by',\n",
              " 'for',\n",
              " 'with',\n",
              " 'about',\n",
              " 'against',\n",
              " 'between',\n",
              " 'into',\n",
              " 'through',\n",
              " 'during',\n",
              " 'before',\n",
              " 'after',\n",
              " 'above',\n",
              " 'below',\n",
              " 'to',\n",
              " 'from',\n",
              " 'up',\n",
              " 'down',\n",
              " 'in',\n",
              " 'out',\n",
              " 'on',\n",
              " 'off',\n",
              " 'over',\n",
              " 'under',\n",
              " 'again',\n",
              " 'further',\n",
              " 'then',\n",
              " 'once',\n",
              " 'here',\n",
              " 'there',\n",
              " 'when',\n",
              " 'where',\n",
              " 'why',\n",
              " 'how',\n",
              " 'all',\n",
              " 'any',\n",
              " 'both',\n",
              " 'each',\n",
              " 'few',\n",
              " 'more',\n",
              " 'most',\n",
              " 'other',\n",
              " 'some',\n",
              " 'such',\n",
              " 'no',\n",
              " 'nor',\n",
              " 'not',\n",
              " 'only',\n",
              " 'own',\n",
              " 'same',\n",
              " 'so',\n",
              " 'than',\n",
              " 'too',\n",
              " 'very',\n",
              " 's',\n",
              " 't',\n",
              " 'can',\n",
              " 'will',\n",
              " 'just',\n",
              " 'don',\n",
              " \"don't\",\n",
              " 'should',\n",
              " \"should've\",\n",
              " 'now',\n",
              " 'd',\n",
              " 'll',\n",
              " 'm',\n",
              " 'o',\n",
              " 're',\n",
              " 've',\n",
              " 'y',\n",
              " 'ain',\n",
              " 'aren',\n",
              " \"aren't\",\n",
              " 'couldn',\n",
              " \"couldn't\",\n",
              " 'didn',\n",
              " \"didn't\",\n",
              " 'doesn',\n",
              " \"doesn't\",\n",
              " 'hadn',\n",
              " \"hadn't\",\n",
              " 'hasn',\n",
              " \"hasn't\",\n",
              " 'haven',\n",
              " \"haven't\",\n",
              " 'isn',\n",
              " \"isn't\",\n",
              " 'ma',\n",
              " 'mightn',\n",
              " \"mightn't\",\n",
              " 'mustn',\n",
              " \"mustn't\",\n",
              " 'needn',\n",
              " \"needn't\",\n",
              " 'shan',\n",
              " \"shan't\",\n",
              " 'shouldn',\n",
              " \"shouldn't\",\n",
              " 'wasn',\n",
              " \"wasn't\",\n",
              " 'weren',\n",
              " \"weren't\",\n",
              " 'won',\n",
              " \"won't\",\n",
              " 'wouldn',\n",
              " \"wouldn't\"]"
            ]
          },
          "metadata": {},
          "execution_count": 14
        }
      ]
    },
    {
      "cell_type": "code",
      "source": [
        "#stemming\n",
        "from nltk.stem import PorterStemmer\n",
        "stemmer = PorterStemmer()\n",
        "for i in corpus:\n",
        "  words = nltk.word_tokenize(i)\n",
        "  for word in words:\n",
        "    print(stemmer.stem(word))"
      ],
      "metadata": {
        "colab": {
          "base_uri": "https://localhost:8080/"
        },
        "id": "mwqE82kF65c1",
        "outputId": "71298eb6-6b44-4422-cffe-08571ff90ee0"
      },
      "execution_count": 15,
      "outputs": [
        {
          "output_type": "stream",
          "name": "stdout",
          "text": [
            "admiss\n",
            "committe\n",
            "virginia\n",
            "tech\n",
            "univers\n",
            "depart\n",
            "of\n",
            "agricultur\n",
            "and\n",
            "extens\n",
            "educ\n",
            "dear\n",
            "member\n",
            "of\n",
            "the\n",
            "admiss\n",
            "committe\n",
            "it\n",
            "is\n",
            "with\n",
            "great\n",
            "pleasur\n",
            "that\n",
            "i\n",
            "write\n",
            "thi\n",
            "letter\n",
            "to\n",
            "recommend\n",
            "surajudeen\n",
            "omotoso\n",
            "for\n",
            "admiss\n",
            "into\n",
            "your\n",
            "master\n",
            "s\n",
            "program\n",
            "in\n",
            "agricultur\n",
            "leadership\n",
            "i\n",
            "have\n",
            "had\n",
            "the\n",
            "privileg\n",
            "of\n",
            "mentor\n",
            "surajudeen\n",
            "dure\n",
            "hi\n",
            "undergradu\n",
            "studi\n",
            "at\n",
            "the\n",
            "univers\n",
            "of\n",
            "ibadan\n",
            "where\n",
            "he\n",
            "graduat\n",
            "with\n",
            "a\n",
            "first\n",
            "class\n",
            "degre\n",
            "in\n",
            "agricultur\n",
            "extens\n",
            "as\n",
            "their\n",
            "lectur\n",
            "i\n",
            "observ\n",
            "hi\n",
            "except\n",
            "academ\n",
            "perform\n",
            "strong\n",
            "leadership\n",
            "skill\n",
            "and\n",
            "unwav\n",
            "passion\n",
            "for\n",
            "agricultur\n",
            "and\n",
            "commun\n",
            "develop\n",
            "surajudeen\n",
            "consist\n",
            "demonstr\n",
            "a\n",
            "profound\n",
            "understand\n",
            "of\n",
            "agricultur\n",
            "system\n",
            "and\n",
            "their\n",
            "socio\n",
            "econom\n",
            "implic\n",
            "excel\n",
            "in\n",
            "cours\n",
            "such\n",
            "as\n",
            "commun\n",
            "leadership\n",
            "and\n",
            "social\n",
            "chang\n",
            "where\n",
            "they\n",
            "critic\n",
            "engag\n",
            "with\n",
            "topic\n",
            "like\n",
            "commun\n",
            "entri\n",
            "strategi\n",
            "leadership\n",
            "dynam\n",
            "and\n",
            "sustain\n",
            "develop\n",
            "hi\n",
            "curios\n",
            "and\n",
            "analyt\n",
            "mindset\n",
            "were\n",
            "evid\n",
            "in\n",
            "hi\n",
            "abil\n",
            "to\n",
            "draw\n",
            "meaning\n",
            "connect\n",
            "between\n",
            "theoret\n",
            "framework\n",
            "and\n",
            "real\n",
            "world\n",
            "challeng\n",
            "particularli\n",
            "in\n",
            "address\n",
            "the\n",
            "uniqu\n",
            "need\n",
            "and\n",
            "opportun\n",
            "within\n",
            "africa\n",
            "s\n",
            "agricultur\n",
            "sector\n",
            "beyond\n",
            "academ\n",
            "surajudeen\n",
            "showcas\n",
            "remark\n",
            "leadership\n",
            "and\n",
            "organiz\n",
            "skill\n",
            "as\n",
            "an\n",
            "assist\n",
            "farm\n",
            "manag\n",
            "dure\n",
            "hi\n",
            "tenur\n",
            "at\n",
            "feder\n",
            "univers\n",
            "lokoja\n",
            "he\n",
            "effect\n",
            "manag\n",
            "divers\n",
            "task\n",
            "includ\n",
            "process\n",
            "cassava\n",
            "into\n",
            "garri\n",
            "rais\n",
            "poultri\n",
            "for\n",
            "egg\n",
            "product\n",
            "and\n",
            "overse\n",
            "fish\n",
            "farm\n",
            "oper\n",
            "hi\n",
            "role\n",
            "also\n",
            "involv\n",
            "lectur\n",
            "univers\n",
            "student\n",
            "on\n",
            "entrepreneurship\n",
            "in\n",
            "agricultur\n",
            "further\n",
            "highlight\n",
            "hi\n",
            "abil\n",
            "to\n",
            "inspir\n",
            "and\n",
            "educ\n",
            "other\n",
            "thi\n",
            "blend\n",
            "of\n",
            "hand\n",
            "on\n",
            "experi\n",
            "and\n",
            "a\n",
            "commit\n",
            "to\n",
            "knowledg\n",
            "share\n",
            "reflect\n",
            "hi\n",
            "readi\n",
            "to\n",
            "take\n",
            "on\n",
            "leadership\n",
            "role\n",
            "in\n",
            "the\n",
            "agricultur\n",
            "domain\n",
            "surajudeen\n",
            "s\n",
            "passion\n",
            "for\n",
            "bridg\n",
            "the\n",
            "gap\n",
            "between\n",
            "agricultur\n",
            "theori\n",
            "and\n",
            "practic\n",
            "extend\n",
            "to\n",
            "hi\n",
            "vision\n",
            "for\n",
            "integr\n",
            "data\n",
            "analyt\n",
            "and\n",
            "sustain\n",
            "farm\n",
            "techniqu\n",
            "to\n",
            "address\n",
            "press\n",
            "challeng\n",
            "in\n",
            "food\n",
            "secur\n",
            "and\n",
            "climat\n",
            "resili\n",
            "hi\n",
            "aspir\n",
            "to\n",
            "lead\n",
            "innov\n",
            "research\n",
            "and\n",
            "commun\n",
            "orient\n",
            "project\n",
            "make\n",
            "him\n",
            "an\n",
            "ideal\n",
            "candid\n",
            "for\n",
            "your\n",
            "program\n",
            "i\n",
            "am\n",
            "confid\n",
            "that\n",
            "he\n",
            "will\n",
            "thrive\n",
            "in\n",
            "your\n",
            "academ\n",
            "rigor\n",
            "environ\n",
            "contribut\n",
            "activ\n",
            "to\n",
            "your\n",
            "mission\n",
            "of\n",
            "foster\n",
            "futur\n",
            "leader\n",
            "in\n",
            "agricultur\n",
            "in\n",
            "conclus\n",
            "i\n",
            "wholeheartedli\n",
            "recommend\n",
            "surajudeen\n",
            "for\n",
            "admiss\n",
            "into\n",
            "the\n",
            "master\n",
            "s\n",
            "program\n",
            "in\n",
            "agricultur\n",
            "leadership\n",
            "i\n",
            "am\n",
            "confid\n",
            "that\n",
            "hi\n",
            "academ\n",
            "excel\n",
            "practic\n",
            "experi\n",
            "and\n",
            "passion\n",
            "for\n",
            "agricultur\n",
            "develop\n",
            "will\n",
            "make\n",
            "them\n",
            "a\n",
            "valuabl\n",
            "asset\n",
            "to\n",
            "your\n",
            "institut\n",
            "pleas\n",
            "do\n",
            "not\n",
            "hesit\n",
            "to\n",
            "contact\n",
            "me\n",
            "at\n",
            "io\n",
            "badiru\n",
            "ui\n",
            "edu\n",
            "ng\n",
            "should\n",
            "you\n",
            "requir\n",
            "further\n",
            "inform\n",
            "your\n",
            "sincer\n",
            "dr\n",
            "idri\n",
            "badiru\n"
          ]
        }
      ]
    },
    {
      "cell_type": "code",
      "source": [
        "for i in corpus:\n",
        "  words = nltk.word_tokenize(i)\n",
        "  for word in words:\n",
        "    if word not in set(stopwords.words('english')):\n",
        "      print(lemmatizer.lemmatize(word))"
      ],
      "metadata": {
        "colab": {
          "base_uri": "https://localhost:8080/"
        },
        "id": "IUQuUVrQ2vh3",
        "outputId": "ec7b404c-696a-4fb2-ced9-cf19653ddd06"
      },
      "execution_count": 16,
      "outputs": [
        {
          "output_type": "stream",
          "name": "stdout",
          "text": [
            "admission\n",
            "committee\n",
            "virginia\n",
            "tech\n",
            "university\n",
            "department\n",
            "agricultural\n",
            "extension\n",
            "education\n",
            "dear\n",
            "member\n",
            "admission\n",
            "committee\n",
            "great\n",
            "pleasure\n",
            "write\n",
            "letter\n",
            "recommend\n",
            "surajudeen\n",
            "omotoso\n",
            "admission\n",
            "master\n",
            "program\n",
            "agricultural\n",
            "leadership\n",
            "privilege\n",
            "mentoring\n",
            "surajudeen\n",
            "undergraduate\n",
            "study\n",
            "university\n",
            "ibadan\n",
            "graduated\n",
            "first\n",
            "class\n",
            "degree\n",
            "agricultural\n",
            "extension\n",
            "lecturer\n",
            "observed\n",
            "exceptional\n",
            "academic\n",
            "performance\n",
            "strong\n",
            "leadership\n",
            "skill\n",
            "unwavering\n",
            "passion\n",
            "agriculture\n",
            "community\n",
            "development\n",
            "surajudeen\n",
            "consistently\n",
            "demonstrated\n",
            "profound\n",
            "understanding\n",
            "agricultural\n",
            "system\n",
            "socio\n",
            "economic\n",
            "implication\n",
            "excelling\n",
            "course\n",
            "community\n",
            "leadership\n",
            "social\n",
            "change\n",
            "critically\n",
            "engaged\n",
            "topic\n",
            "like\n",
            "community\n",
            "entry\n",
            "strategy\n",
            "leadership\n",
            "dynamic\n",
            "sustainable\n",
            "development\n",
            "curiosity\n",
            "analytical\n",
            "mindset\n",
            "evident\n",
            "ability\n",
            "draw\n",
            "meaningful\n",
            "connection\n",
            "theoretical\n",
            "framework\n",
            "real\n",
            "world\n",
            "challenge\n",
            "particularly\n",
            "addressing\n",
            "unique\n",
            "need\n",
            "opportunity\n",
            "within\n",
            "africa\n",
            "agricultural\n",
            "sector\n",
            "beyond\n",
            "academic\n",
            "surajudeen\n",
            "showcased\n",
            "remarkable\n",
            "leadership\n",
            "organizational\n",
            "skill\n",
            "assistant\n",
            "farm\n",
            "manager\n",
            "tenure\n",
            "federal\n",
            "university\n",
            "lokoja\n",
            "effectively\n",
            "managed\n",
            "diverse\n",
            "task\n",
            "including\n",
            "processing\n",
            "cassava\n",
            "garri\n",
            "raising\n",
            "poultry\n",
            "egg\n",
            "production\n",
            "overseeing\n",
            "fish\n",
            "farming\n",
            "operation\n",
            "role\n",
            "also\n",
            "involved\n",
            "lecturing\n",
            "university\n",
            "student\n",
            "entrepreneurship\n",
            "agriculture\n",
            "highlighting\n",
            "ability\n",
            "inspire\n",
            "educate\n",
            "others\n",
            "blend\n",
            "hand\n",
            "experience\n",
            "commitment\n",
            "knowledge\n",
            "sharing\n",
            "reflects\n",
            "readiness\n",
            "take\n",
            "leadership\n",
            "role\n",
            "agricultural\n",
            "domain\n",
            "surajudeen\n",
            "passion\n",
            "bridging\n",
            "gap\n",
            "agricultural\n",
            "theory\n",
            "practice\n",
            "extends\n",
            "vision\n",
            "integrating\n",
            "data\n",
            "analytics\n",
            "sustainable\n",
            "farming\n",
            "technique\n",
            "address\n",
            "pressing\n",
            "challenge\n",
            "food\n",
            "security\n",
            "climate\n",
            "resilience\n",
            "aspiration\n",
            "lead\n",
            "innovative\n",
            "research\n",
            "community\n",
            "oriented\n",
            "project\n",
            "make\n",
            "ideal\n",
            "candidate\n",
            "program\n",
            "confident\n",
            "thrive\n",
            "academically\n",
            "rigorous\n",
            "environment\n",
            "contributing\n",
            "actively\n",
            "mission\n",
            "fostering\n",
            "future\n",
            "leader\n",
            "agriculture\n",
            "conclusion\n",
            "wholeheartedly\n",
            "recommend\n",
            "surajudeen\n",
            "admission\n",
            "master\n",
            "program\n",
            "agricultural\n",
            "leadership\n",
            "confident\n",
            "academic\n",
            "excellence\n",
            "practical\n",
            "experience\n",
            "passion\n",
            "agricultural\n",
            "development\n",
            "make\n",
            "valuable\n",
            "asset\n",
            "institution\n",
            "please\n",
            "hesitate\n",
            "contact\n",
            "io\n",
            "badiru\n",
            "ui\n",
            "edu\n",
            "ng\n",
            "require\n",
            "information\n",
            "sincerely\n",
            "dr\n",
            "idris\n",
            "badiru\n"
          ]
        }
      ]
    },
    {
      "cell_type": "code",
      "source": [
        "#bag of words\n",
        "from sklearn.feature_extraction.text import CountVectorizer\n",
        "cv = CountVectorizer(binary = True, ngram_range=(3,3))\n",
        "X = cv.fit_transform(corpus).toarray()\n",
        "cv.vocabulary_"
      ],
      "metadata": {
        "colab": {
          "base_uri": "https://localhost:8080/"
        },
        "id": "tSeY9TkM5Api",
        "outputId": "098c3f9d-37b6-4ac9-8342-c388e7cd821a"
      },
      "execution_count": 17,
      "outputs": [
        {
          "output_type": "execute_result",
          "data": {
            "text/plain": [
              "{'admissions committee virginia': 12,\n",
              " 'committee virginia tech': 67,\n",
              " 'virginia tech university': 313,\n",
              " 'tech university department': 269,\n",
              " 'university department of': 307,\n",
              " 'department of agricultural': 85,\n",
              " 'of agricultural and': 203,\n",
              " 'agricultural and extension': 14,\n",
              " 'and extension education': 32,\n",
              " 'extension education dear': 110,\n",
              " 'education dear members': 96,\n",
              " 'dear members of': 82,\n",
              " 'members of the': 195,\n",
              " 'of the admissions': 209,\n",
              " 'the admissions committee': 275,\n",
              " 'admissions committee it': 11,\n",
              " 'committee it is': 66,\n",
              " 'it is with': 174,\n",
              " 'is with great': 173,\n",
              " 'with great pleasure': 322,\n",
              " 'great pleasure that': 131,\n",
              " 'pleasure that write': 223,\n",
              " 'that write this': 274,\n",
              " 'write this letter': 326,\n",
              " 'this letter to': 289,\n",
              " 'letter to recommend': 185,\n",
              " 'to recommend surajudeen': 298,\n",
              " 'recommend surajudeen omotoso': 238,\n",
              " 'surajudeen omotoso for': 262,\n",
              " 'omotoso for admission': 210,\n",
              " 'for admission into': 117,\n",
              " 'admission into your': 10,\n",
              " 'into your master': 170,\n",
              " 'your master program': 329,\n",
              " 'master program in': 192,\n",
              " 'program in agricultural': 232,\n",
              " 'in agricultural leadership': 156,\n",
              " 'have had the': 134,\n",
              " 'had the privilege': 132,\n",
              " 'the privilege of': 279,\n",
              " 'privilege of mentoring': 228,\n",
              " 'of mentoring surajudeen': 208,\n",
              " 'mentoring surajudeen during': 196,\n",
              " 'surajudeen during his': 260,\n",
              " 'during his undergraduate': 92,\n",
              " 'his undergraduate studies': 149,\n",
              " 'undergraduate studies at': 304,\n",
              " 'studies at the': 257,\n",
              " 'at the university': 52,\n",
              " 'the university of': 281,\n",
              " 'university of ibadan': 309,\n",
              " 'of ibadan where': 207,\n",
              " 'ibadan where he': 151,\n",
              " 'where he graduated': 316,\n",
              " 'he graduated with': 136,\n",
              " 'graduated with first': 130,\n",
              " 'with first class': 321,\n",
              " 'first class degree': 114,\n",
              " 'class degree in': 64,\n",
              " 'degree in agricultural': 83,\n",
              " 'in agricultural extension': 155,\n",
              " 'as their lecturer': 46,\n",
              " 'their lecturer observed': 282,\n",
              " 'lecturer observed his': 183,\n",
              " 'observed his exceptional': 202,\n",
              " 'his exceptional academic': 145,\n",
              " 'exceptional academic performance': 106,\n",
              " 'academic performance strong': 3,\n",
              " 'performance strong leadership': 221,\n",
              " 'strong leadership skills': 255,\n",
              " 'leadership skills and': 182,\n",
              " 'skills and unwavering': 251,\n",
              " 'and unwavering passion': 43,\n",
              " 'unwavering passion for': 311,\n",
              " 'passion for agriculture': 219,\n",
              " 'for agriculture and': 119,\n",
              " 'agriculture and community': 18,\n",
              " 'and community development': 29,\n",
              " 'surajudeen consistently demonstrated': 259,\n",
              " 'consistently demonstrated profound': 75,\n",
              " 'demonstrated profound understanding': 84,\n",
              " 'profound understanding of': 231,\n",
              " 'understanding of agricultural': 305,\n",
              " 'of agricultural systems': 204,\n",
              " 'agricultural systems and': 16,\n",
              " 'systems and their': 266,\n",
              " 'and their socio': 42,\n",
              " 'their socio economic': 283,\n",
              " 'socio economic implications': 253,\n",
              " 'economic implications excelling': 94,\n",
              " 'implications excelling in': 153,\n",
              " 'excelling in courses': 105,\n",
              " 'in courses such': 159,\n",
              " 'courses such as': 78,\n",
              " 'such as community': 258,\n",
              " 'as community leadership': 45,\n",
              " 'community leadership and': 69,\n",
              " 'leadership and social': 179,\n",
              " 'and social change': 39,\n",
              " 'social change where': 252,\n",
              " 'change where they': 63,\n",
              " 'where they critically': 317,\n",
              " 'they critically engaged': 287,\n",
              " 'critically engaged with': 79,\n",
              " 'engaged with topics': 99,\n",
              " 'with topics like': 323,\n",
              " 'topics like community': 302,\n",
              " 'like community entry': 186,\n",
              " 'community entry strategies': 68,\n",
              " 'entry strategies leadership': 101,\n",
              " 'strategies leadership dynamics': 254,\n",
              " 'leadership dynamics and': 180,\n",
              " 'dynamics and sustainable': 93,\n",
              " 'and sustainable development': 40,\n",
              " 'his curiosity and': 144,\n",
              " 'curiosity and analytical': 80,\n",
              " 'and analytical mindset': 26,\n",
              " 'analytical mindset were': 24,\n",
              " 'mindset were evident': 197,\n",
              " 'were evident in': 315,\n",
              " 'evident in his': 103,\n",
              " 'in his ability': 161,\n",
              " 'his ability to': 141,\n",
              " 'ability to draw': 0,\n",
              " 'to draw meaningful': 293,\n",
              " 'draw meaningful connections': 90,\n",
              " 'meaningful connections between': 194,\n",
              " 'connections between theoretical': 74,\n",
              " 'between theoretical frameworks': 55,\n",
              " 'theoretical frameworks and': 285,\n",
              " 'frameworks and real': 125,\n",
              " 'and real world': 38,\n",
              " 'real world challenges': 236,\n",
              " 'world challenges particularly': 325,\n",
              " 'challenges particularly in': 62,\n",
              " 'particularly in addressing': 217,\n",
              " 'in addressing the': 154,\n",
              " 'addressing the unique': 8,\n",
              " 'the unique needs': 280,\n",
              " 'unique needs and': 306,\n",
              " 'needs and opportunities': 199,\n",
              " 'and opportunities within': 33,\n",
              " 'opportunities within africa': 214,\n",
              " 'within africa agricultural': 324,\n",
              " 'africa agricultural sector': 13,\n",
              " 'beyond academics surajudeen': 56,\n",
              " 'academics surajudeen showcased': 5,\n",
              " 'surajudeen showcased remarkable': 264,\n",
              " 'showcased remarkable leadership': 249,\n",
              " 'remarkable leadership and': 240,\n",
              " 'leadership and organizational': 178,\n",
              " 'and organizational skills': 34,\n",
              " 'as an assistant': 44,\n",
              " 'an assistant farm': 22,\n",
              " 'assistant farm manager': 49,\n",
              " 'farm manager during': 111,\n",
              " 'manager during his': 191,\n",
              " 'during his tenure': 91,\n",
              " 'his tenure at': 148,\n",
              " 'tenure at federal': 271,\n",
              " 'at federal university': 50,\n",
              " 'federal university lokoja': 113,\n",
              " 'university lokoja he': 308,\n",
              " 'lokoja he effectively': 187,\n",
              " 'he effectively managed': 135,\n",
              " 'effectively managed diverse': 97,\n",
              " 'managed diverse tasks': 190,\n",
              " 'diverse tasks including': 87,\n",
              " 'tasks including processing': 268,\n",
              " 'including processing cassava': 164,\n",
              " 'processing cassava into': 229,\n",
              " 'cassava into garri': 60,\n",
              " 'into garri raising': 168,\n",
              " 'garri raising poultry': 129,\n",
              " 'raising poultry for': 234,\n",
              " 'poultry for egg': 224,\n",
              " 'for egg production': 121,\n",
              " 'egg production and': 98,\n",
              " 'production and overseeing': 230,\n",
              " 'and overseeing fish': 35,\n",
              " 'overseeing fish farming': 216,\n",
              " 'fish farming operations': 115,\n",
              " 'his role also': 147,\n",
              " 'role also involved': 244,\n",
              " 'also involved lecturing': 20,\n",
              " 'involved lecturing university': 171,\n",
              " 'lecturing university students': 184,\n",
              " 'university students on': 310,\n",
              " 'students on entrepreneurship': 256,\n",
              " 'on entrepreneurship in': 211,\n",
              " 'entrepreneurship in agriculture': 100,\n",
              " 'in agriculture further': 157,\n",
              " 'agriculture further highlighting': 19,\n",
              " 'further highlighting his': 126,\n",
              " 'highlighting his ability': 139,\n",
              " 'ability to inspire': 1,\n",
              " 'to inspire and': 295,\n",
              " 'inspire and educate': 166,\n",
              " 'and educate others': 31,\n",
              " 'this blend of': 288,\n",
              " 'blend of hands': 57,\n",
              " 'of hands on': 206,\n",
              " 'hands on experience': 133,\n",
              " 'on experience and': 212,\n",
              " 'experience and commitment': 107,\n",
              " 'and commitment to': 28,\n",
              " 'commitment to knowledge': 65,\n",
              " 'to knowledge sharing': 296,\n",
              " 'knowledge sharing reflects': 175,\n",
              " 'sharing reflects his': 247,\n",
              " 'reflects his readiness': 239,\n",
              " 'his readiness to': 146,\n",
              " 'readiness to take': 235,\n",
              " 'to take on': 299,\n",
              " 'take on leadership': 267,\n",
              " 'on leadership roles': 213,\n",
              " 'leadership roles in': 181,\n",
              " 'roles in the': 245,\n",
              " 'in the agricultural': 162,\n",
              " 'the agricultural domain': 276,\n",
              " 'surajudeen passion for': 263,\n",
              " 'passion for bridging': 220,\n",
              " 'for bridging the': 120,\n",
              " 'bridging the gap': 58,\n",
              " 'the gap between': 277,\n",
              " 'gap between agricultural': 128,\n",
              " 'between agricultural theory': 54,\n",
              " 'agricultural theory and': 17,\n",
              " 'theory and practice': 286,\n",
              " 'and practice extends': 37,\n",
              " 'practice extends to': 226,\n",
              " 'extends to his': 109,\n",
              " 'to his vision': 294,\n",
              " 'his vision for': 150,\n",
              " 'vision for integrating': 314,\n",
              " 'for integrating data': 122,\n",
              " 'integrating data analytics': 167,\n",
              " 'data analytics and': 81,\n",
              " 'analytics and sustainable': 25,\n",
              " 'and sustainable farming': 41,\n",
              " 'sustainable farming techniques': 265,\n",
              " 'farming techniques to': 112,\n",
              " 'techniques to address': 270,\n",
              " 'to address pressing': 291,\n",
              " 'address pressing challenges': 7,\n",
              " 'pressing challenges in': 227,\n",
              " 'challenges in food': 61,\n",
              " 'in food security': 160,\n",
              " 'food security and': 116,\n",
              " 'security and climate': 246,\n",
              " 'and climate resilience': 27,\n",
              " 'his aspiration to': 143,\n",
              " 'aspiration to lead': 47,\n",
              " 'to lead innovative': 297,\n",
              " 'lead innovative research': 176,\n",
              " 'innovative research and': 165,\n",
              " 'research and community': 242,\n",
              " 'and community oriented': 30,\n",
              " 'community oriented projects': 70,\n",
              " 'oriented projects makes': 215,\n",
              " 'projects makes him': 233,\n",
              " 'makes him an': 189,\n",
              " 'him an ideal': 140,\n",
              " 'an ideal candidate': 23,\n",
              " 'ideal candidate for': 152,\n",
              " 'candidate for your': 59,\n",
              " 'for your program': 123,\n",
              " 'am confident that': 21,\n",
              " 'confident that he': 72,\n",
              " 'that he will': 272,\n",
              " 'he will thrive': 137,\n",
              " 'will thrive in': 320,\n",
              " 'thrive in your': 290,\n",
              " 'in your academically': 163,\n",
              " 'your academically rigorous': 328,\n",
              " 'academically rigorous environment': 4,\n",
              " 'rigorous environment contributing': 243,\n",
              " 'environment contributing actively': 102,\n",
              " 'contributing actively to': 77,\n",
              " 'actively to your': 6,\n",
              " 'to your mission': 301,\n",
              " 'your mission of': 330,\n",
              " 'mission of fostering': 198,\n",
              " 'of fostering future': 205,\n",
              " 'fostering future leaders': 124,\n",
              " 'future leaders in': 127,\n",
              " 'leaders in agriculture': 177,\n",
              " 'in conclusion wholeheartedly': 158,\n",
              " 'conclusion wholeheartedly recommend': 71,\n",
              " 'wholeheartedly recommend surajudeen': 318,\n",
              " 'recommend surajudeen for': 237,\n",
              " 'surajudeen for admission': 261,\n",
              " 'admission into the': 9,\n",
              " 'into the master': 169,\n",
              " 'the master program': 278,\n",
              " 'confident that his': 73,\n",
              " 'that his academic': 273,\n",
              " 'his academic excellence': 142,\n",
              " 'academic excellence practical': 2,\n",
              " 'excellence practical experience': 104,\n",
              " 'practical experience and': 225,\n",
              " 'experience and passion': 108,\n",
              " 'and passion for': 36,\n",
              " 'passion for agricultural': 218,\n",
              " 'for agricultural development': 118,\n",
              " 'agricultural development will': 15,\n",
              " 'development will make': 86,\n",
              " 'will make them': 319,\n",
              " 'make them valuable': 188,\n",
              " 'them valuable asset': 284,\n",
              " 'valuable asset to': 312,\n",
              " 'asset to your': 48,\n",
              " 'to your institution': 300,\n",
              " 'please do not': 222,\n",
              " 'do not hesitate': 88,\n",
              " 'not hesitate to': 201,\n",
              " 'hesitate to contact': 138,\n",
              " 'to contact me': 292,\n",
              " 'contact me at': 76,\n",
              " 'me at io': 193,\n",
              " 'at io badiru': 51,\n",
              " 'io badiru ui': 172,\n",
              " 'badiru ui edu': 53,\n",
              " 'ui edu ng': 303,\n",
              " 'edu ng should': 95,\n",
              " 'ng should you': 200,\n",
              " 'should you require': 248,\n",
              " 'you require further': 327,\n",
              " 'require further information': 241,\n",
              " 'yours sincerely dr': 331,\n",
              " 'sincerely dr idris': 250,\n",
              " 'dr idris badiru': 89}"
            ]
          },
          "metadata": {},
          "execution_count": 17
        }
      ]
    },
    {
      "cell_type": "code",
      "source": [
        "corpus[0]"
      ],
      "metadata": {
        "colab": {
          "base_uri": "https://localhost:8080/",
          "height": 53
        },
        "id": "jJx1UUkv6gjt",
        "outputId": "ee146d9a-baa9-4816-cc1a-60a6a6a2c32f"
      },
      "execution_count": 18,
      "outputs": [
        {
          "output_type": "execute_result",
          "data": {
            "text/plain": [
              "' admissions committee  virginia tech university  department of agricultural and extension education  dear members of the admissions committee  it is with great pleasure that i write this letter to recommend surajudeen omotoso for admission into your master s program in agricultural leadership '"
            ],
            "application/vnd.google.colaboratory.intrinsic+json": {
              "type": "string"
            }
          },
          "metadata": {},
          "execution_count": 18
        }
      ]
    },
    {
      "cell_type": "code",
      "source": [
        "corpus[1]"
      ],
      "metadata": {
        "colab": {
          "base_uri": "https://localhost:8080/",
          "height": 53
        },
        "id": "HjaCoL317dUp",
        "outputId": "e8c08a3a-d58d-460b-b15d-3e30459ca2e9"
      },
      "execution_count": 19,
      "outputs": [
        {
          "output_type": "execute_result",
          "data": {
            "text/plain": [
              "'i have had the privilege of mentoring surajudeen during his undergraduate studies at the university of ibadan  where he graduated with a first class degree in agricultural extension '"
            ],
            "application/vnd.google.colaboratory.intrinsic+json": {
              "type": "string"
            }
          },
          "metadata": {},
          "execution_count": 19
        }
      ]
    },
    {
      "cell_type": "code",
      "source": [
        "# APPLY Stopwords, lemmatize\n",
        "import re\n",
        "corpus = []\n",
        "for i in range (len(sentence)):\n",
        "  review = re.sub('[^a-zA-Z]', \" \", sentence[i])\n",
        "  review = review.lower()\n",
        "  review = review.split()\n",
        "  review = [lemmatizer.lemmatize(word) for word in review if not word in set(stopwords.words('english'))]\n",
        "  review = ' '.join(review)\n",
        "  corpus.append(review)"
      ],
      "metadata": {
        "id": "7-AFN63B7lMt"
      },
      "execution_count": 20,
      "outputs": []
    },
    {
      "cell_type": "code",
      "source": [
        "corpus"
      ],
      "metadata": {
        "id": "d_zWic9G8BQP",
        "colab": {
          "base_uri": "https://localhost:8080/"
        },
        "outputId": "212316de-4b89-416b-874f-d4740eec0abf"
      },
      "execution_count": 21,
      "outputs": [
        {
          "output_type": "execute_result",
          "data": {
            "text/plain": [
              "['admission committee virginia tech university department agricultural extension education dear member admission committee great pleasure write letter recommend surajudeen omotoso admission master program agricultural leadership',\n",
              " 'privilege mentoring surajudeen undergraduate study university ibadan graduated first class degree agricultural extension',\n",
              " 'lecturer observed exceptional academic performance strong leadership skill unwavering passion agriculture community development',\n",
              " 'surajudeen consistently demonstrated profound understanding agricultural system socio economic implication excelling course community leadership social change critically engaged topic like community entry strategy leadership dynamic sustainable development',\n",
              " 'curiosity analytical mindset evident ability draw meaningful connection theoretical framework real world challenge particularly addressing unique need opportunity within africa agricultural sector',\n",
              " 'beyond academic surajudeen showcased remarkable leadership organizational skill',\n",
              " 'assistant farm manager tenure federal university lokoja effectively managed diverse task including processing cassava garri raising poultry egg production overseeing fish farming operation',\n",
              " 'role also involved lecturing university student entrepreneurship agriculture highlighting ability inspire educate others',\n",
              " 'blend hand experience commitment knowledge sharing reflects readiness take leadership role agricultural domain',\n",
              " 'surajudeen passion bridging gap agricultural theory practice extends vision integrating data analytics sustainable farming technique address pressing challenge food security climate resilience',\n",
              " 'aspiration lead innovative research community oriented project make ideal candidate program',\n",
              " 'confident thrive academically rigorous environment contributing actively mission fostering future leader agriculture',\n",
              " 'conclusion wholeheartedly recommend surajudeen admission master program agricultural leadership',\n",
              " 'confident academic excellence practical experience passion agricultural development make valuable asset institution',\n",
              " 'please hesitate contact io badiru ui edu ng require information',\n",
              " 'sincerely dr idris badiru']"
            ]
          },
          "metadata": {},
          "execution_count": 21
        }
      ]
    },
    {
      "cell_type": "code",
      "source": [
        "#TF-IDF\n",
        "from sklearn.feature_extraction.text import TfidfVectorizer\n",
        "cv = TfidfVectorizer(ngram_range=(3,3))\n",
        "X = cv.fit_transform(corpus)"
      ],
      "metadata": {
        "id": "zDrwZpaM2ZMx"
      },
      "execution_count": 22,
      "outputs": []
    },
    {
      "cell_type": "code",
      "source": [
        "!pip install gensim"
      ],
      "metadata": {
        "id": "Q9khbOiF38Z3",
        "colab": {
          "base_uri": "https://localhost:8080/"
        },
        "outputId": "e0a42d4b-8f6c-4838-fb61-5debf9c71f06"
      },
      "execution_count": 23,
      "outputs": [
        {
          "output_type": "stream",
          "name": "stdout",
          "text": [
            "Requirement already satisfied: gensim in /usr/local/lib/python3.10/dist-packages (4.3.3)\n",
            "Requirement already satisfied: numpy<2.0,>=1.18.5 in /usr/local/lib/python3.10/dist-packages (from gensim) (1.26.4)\n",
            "Requirement already satisfied: scipy<1.14.0,>=1.7.0 in /usr/local/lib/python3.10/dist-packages (from gensim) (1.13.1)\n",
            "Requirement already satisfied: smart-open>=1.8.1 in /usr/local/lib/python3.10/dist-packages (from gensim) (7.1.0)\n",
            "Requirement already satisfied: wrapt in /usr/local/lib/python3.10/dist-packages (from smart-open>=1.8.1->gensim) (1.17.0)\n"
          ]
        }
      ]
    },
    {
      "cell_type": "code",
      "source": [
        "import gensim"
      ],
      "metadata": {
        "id": "XQy3POtogu5o"
      },
      "execution_count": 24,
      "outputs": []
    },
    {
      "cell_type": "code",
      "source": [
        "from gensim.models import Word2Vec, keyedvectors"
      ],
      "metadata": {
        "id": "m50cdfHOgyH5"
      },
      "execution_count": 25,
      "outputs": []
    },
    {
      "cell_type": "code",
      "source": [
        "import gensim.downloader as api\n",
        "\n",
        "wv = api.load('word2vec-google-news-300')\n",
        "\n",
        "vec_king = wv['king']"
      ],
      "metadata": {
        "colab": {
          "base_uri": "https://localhost:8080/"
        },
        "id": "uwnS81l-g8ID",
        "outputId": "dcf39fd7-60ca-45cc-930a-ed5c26a81c49"
      },
      "execution_count": 28,
      "outputs": [
        {
          "output_type": "stream",
          "name": "stdout",
          "text": [
            "[==================================================] 100.0% 1662.8/1662.8MB downloaded\n"
          ]
        }
      ]
    },
    {
      "cell_type": "code",
      "source": [
        "wv.most_similar('king')"
      ],
      "metadata": {
        "colab": {
          "base_uri": "https://localhost:8080/"
        },
        "id": "F4741_mlhU-z",
        "outputId": "c9da8d49-8c2f-4d2c-f6a6-0d31bbe43084"
      },
      "execution_count": 29,
      "outputs": [
        {
          "output_type": "execute_result",
          "data": {
            "text/plain": [
              "[('kings', 0.7138045430183411),\n",
              " ('queen', 0.6510956883430481),\n",
              " ('monarch', 0.6413194537162781),\n",
              " ('crown_prince', 0.6204220056533813),\n",
              " ('prince', 0.6159993410110474),\n",
              " ('sultan', 0.5864824056625366),\n",
              " ('ruler', 0.5797567367553711),\n",
              " ('princes', 0.5646552443504333),\n",
              " ('Prince_Paras', 0.5432944297790527),\n",
              " ('throne', 0.5422105193138123)]"
            ]
          },
          "metadata": {},
          "execution_count": 29
        }
      ]
    },
    {
      "cell_type": "code",
      "source": [
        "wv.similarity('man', 'king')"
      ],
      "metadata": {
        "colab": {
          "base_uri": "https://localhost:8080/"
        },
        "id": "sy2naJSwkwpI",
        "outputId": "55f54258-da5c-4742-9e82-b079106da0a3"
      },
      "execution_count": 30,
      "outputs": [
        {
          "output_type": "execute_result",
          "data": {
            "text/plain": [
              "0.22942673"
            ]
          },
          "metadata": {},
          "execution_count": 30
        }
      ]
    },
    {
      "cell_type": "code",
      "source": [
        "vec = wv['king'] - wv['man'] + wv['woman']"
      ],
      "metadata": {
        "id": "4xmq6rzbk-Rl"
      },
      "execution_count": 32,
      "outputs": []
    },
    {
      "cell_type": "code",
      "source": [
        "wv.most_similar([vec])"
      ],
      "metadata": {
        "colab": {
          "base_uri": "https://localhost:8080/"
        },
        "id": "d2D2Vbo_m85R",
        "outputId": "34240de4-b7cf-4083-c99a-954a4945a3f0"
      },
      "execution_count": 33,
      "outputs": [
        {
          "output_type": "execute_result",
          "data": {
            "text/plain": [
              "[('king', 0.8449392318725586),\n",
              " ('queen', 0.7300517559051514),\n",
              " ('monarch', 0.645466148853302),\n",
              " ('princess', 0.6156251430511475),\n",
              " ('crown_prince', 0.5818676352500916),\n",
              " ('prince', 0.5777117609977722),\n",
              " ('kings', 0.5613663792610168),\n",
              " ('sultan', 0.5376775860786438),\n",
              " ('Queen_Consort', 0.5344247817993164),\n",
              " ('queens', 0.5289887189865112)]"
            ]
          },
          "metadata": {},
          "execution_count": 33
        }
      ]
    },
    {
      "cell_type": "code",
      "source": [
        ""
      ],
      "metadata": {
        "id": "UhEiLIknnKTp"
      },
      "execution_count": null,
      "outputs": []
    }
  ]
}